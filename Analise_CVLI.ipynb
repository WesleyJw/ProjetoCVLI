{
 "cells": [
  {
   "cell_type": "markdown",
   "metadata": {},
   "source": [
    "# Uma análise sobre crimes violentos letais intencionais (CVLI)\n",
    "\n",
    "De acorco com a **Secretaria de Defesa Social (SDS)** do estado de Pernambuco CVLI é um indicador constituído pelos crimes de homicídio doloso, latrocínio e lesão corporal seguida de morte. Tal indicador é importante para dimensionar os casos de letalidade intencional. Estes dados são coletados diariamente no IML, Polícia Científica, Coordenação de Plantão da Polícia Civil, Serviço de inteligência da PMPE e CIODS, sendo analisados e consolidados pela Gerência de Análise Criminal e Estatística (GACE) até o 15º do mês subsequente.\n",
    "\n",
    "A base de dados disponiblizada na [SDS](https://www.sds.pe.gov.br/estatisticas/51-avulsas/51-indicadores-criminais-em-pernambuco-3), apresenta informações detalhadas sobre os CVLI's, contendo uma granulação ao nível de Município, Região Geográfica, Sexo, natureza Jurídica, Data, Ano, Idade e Total de Vítimas. Sendo assim, com essa análise buscamos compreender a evoução histórica e entender algumas correlações deste tipo de crime.\n",
    "\n",
    "## Perguntas para a Análise\n",
    "\n",
    "  1. Qual a evolução histórica de CVLI em Pernambuco?\n",
    "  2. Qual a incidência de CVLI por sexo?\n",
    "  3. Qual a incidência de CVLI por Idade?\n",
    "  4. Existe um aumento na ocorrência de Feminicídio? \n",
    "  5. Existe um aumento na ocorrência de CVLI contra a mulher?\n",
    "  6. Com base no CVLI, qual a Cidade mais violenta do Estado?   "
   ]
  },
  {
   "cell_type": "markdown",
   "metadata": {},
   "source": []
  }
 ],
 "metadata": {
  "language_info": {
   "name": "python"
  },
  "orig_nbformat": 4
 },
 "nbformat": 4,
 "nbformat_minor": 2
}
