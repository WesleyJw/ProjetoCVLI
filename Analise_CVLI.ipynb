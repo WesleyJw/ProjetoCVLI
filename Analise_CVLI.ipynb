{
 "cells": [
  {
   "cell_type": "markdown",
   "metadata": {},
   "source": [
    "# Uma análise sobre crimes violentos letais intencionais (CVLI)\n",
    "\n",
    "De acorco com a **Secretaria de Defesa Social (SDS)** do estado de Pernambuco CVLI é um indicador constituído pelos crimes de homicídio doloso, latrocínio e lesão corporal seguida de morte. Tal indicador é importante para dimensionar os casos de letalidade intencional. Estes dados são coletados diariamente no IML, Polícia Científica, Coordenação de Plantão da Polícia Civil, Serviço de inteligência da PMPE e CIODS, sendo analisados e consolidados pela Gerência de Análise Criminal e Estatística (GACE) até o 15º do mês subsequente.\n",
    "\n",
    "A base de dados disponiblizada na [SDS](https://www.sds.pe.gov.br/estatisticas/51-avulsas/51-indicadores-criminais-em-pernambuco-3), apresenta informações detalhadas sobre os CVLI's, contendo uma granulação ao nível de Município, Região Geográfica, Sexo, natureza Jurídica, Data, Ano, Idade e Total de Vítimas. Sendo assim, com essa análise buscamos compreender a evoução histórica e entender algumas correlações deste tipo de crime.\n",
    "\n",
    "## Perguntas para a Análise\n",
    "\n",
    "  1. Qual a evolução histórica de CVLI em Pernambuco?\n",
    "  2. Qual a incidência de CVLI por sexo?\n",
    "  3. Qual a incidência de CVLI por Idade?\n",
    "  4. Existe um aumento na ocorrência de Feminicídio? \n",
    "  5. Existe um aumento na ocorrência de CVLI contra a mulher?\n",
    "  6. Com base no CVLI, qual a Cidade mais violenta do Estado?   "
   ]
  },
  {
   "cell_type": "code",
   "execution_count": 22,
   "metadata": {},
   "outputs": [],
   "source": [
    "# Bibliotecas\n",
    "import pandas as pd\n",
    "from datetime import datetime"
   ]
  },
  {
   "cell_type": "code",
   "execution_count": 43,
   "metadata": {},
   "outputs": [
    {
     "name": "stdout",
     "output_type": "stream",
     "text": [
      "##### Trabalhando com dados atualizados em ABR de 2022 #####\n"
     ]
    }
   ],
   "source": [
    "# Dataset imports\n",
    "\n",
    "today = datetime.today()\n",
    "months = {\n",
    "    \"1\": \"JAN\",\n",
    "    \"2\": \"FEB\",\n",
    "    \"3\": \"MAR\",\n",
    "    \"4\": \"ABR\",\n",
    "    \"5\": \"MAI\",\n",
    "    \"6\": \"JUN\",\n",
    "    \"7\": \"JUL\",\n",
    "    \"8\": \"AGO\",\n",
    "    \"9\": \"SET\",\n",
    "    \"10\": \"OUT\",\n",
    "    \"11\": \"NOV\",\n",
    "    \"12\": \"DEZ\"\n",
    "}\n",
    "\n",
    "try:\n",
    "    if today.day < 15:\n",
    "        month = months.get(str(today.month - 2))    \n",
    "    else:\n",
    "        month = months.get(str(today.month - 1))\n",
    "    cvli = pd.read_excel(f\"https://www.sds.pe.gov.br/images/indicadores/CVP/MICRODADOS_DE_CVLI_JAN_2004_A_{month}_2022.xlsx\", sheet_name=\"Plan1\", engine='openpyxl')\n",
    "    print(f\"##### Trabalhando com dados atualizados em {month} de {today.year} #####\")\n",
    "except:\n",
    "    print(\"Exception!\")\n",
    "    cvli = pd.read_excel(\"dataset/MICRODADOS_DE_CVLI_JAN_2004_A_ABR_2022.xlsx\", sheet_name=\"Plan1\", engine='openpyxl')  "
   ]
  },
  {
   "cell_type": "code",
   "execution_count": 35,
   "metadata": {},
   "outputs": [
    {
     "data": {
      "text/plain": [
       "'Jun'"
      ]
     },
     "execution_count": 35,
     "metadata": {},
     "output_type": "execute_result"
    }
   ],
   "source": []
  },
  {
   "cell_type": "code",
   "execution_count": 36,
   "metadata": {},
   "outputs": [
    {
     "data": {
      "text/plain": [
       "'JUN'"
      ]
     },
     "execution_count": 36,
     "metadata": {},
     "output_type": "execute_result"
    }
   ],
   "source": []
  },
  {
   "cell_type": "code",
   "execution_count": 20,
   "metadata": {},
   "outputs": [
    {
     "data": {
      "text/html": [
       "<div>\n",
       "<style scoped>\n",
       "    .dataframe tbody tr th:only-of-type {\n",
       "        vertical-align: middle;\n",
       "    }\n",
       "\n",
       "    .dataframe tbody tr th {\n",
       "        vertical-align: top;\n",
       "    }\n",
       "\n",
       "    .dataframe thead th {\n",
       "        text-align: right;\n",
       "    }\n",
       "</style>\n",
       "<table border=\"1\" class=\"dataframe\">\n",
       "  <thead>\n",
       "    <tr style=\"text-align: right;\">\n",
       "      <th></th>\n",
       "      <th>MUNICIPIO</th>\n",
       "      <th>REGIAO_GEOGRAFICA</th>\n",
       "      <th>SEXO</th>\n",
       "      <th>NATUREZA JURIDICA</th>\n",
       "      <th>DATA</th>\n",
       "      <th>ANO</th>\n",
       "      <th>IDADE</th>\n",
       "      <th>TOTAL DE VITIMAS</th>\n",
       "    </tr>\n",
       "  </thead>\n",
       "  <tbody>\n",
       "    <tr>\n",
       "      <th>0</th>\n",
       "      <td>BUENOS AIRES</td>\n",
       "      <td>ZONA DA MATA</td>\n",
       "      <td>MASCULINO</td>\n",
       "      <td>HOMICIDIO</td>\n",
       "      <td>2004-01-01</td>\n",
       "      <td>2004</td>\n",
       "      <td>NaN</td>\n",
       "      <td>1</td>\n",
       "    </tr>\n",
       "    <tr>\n",
       "      <th>1</th>\n",
       "      <td>CAMARAGIBE</td>\n",
       "      <td>REGIÃO METROPOLITANA</td>\n",
       "      <td>FEMININO</td>\n",
       "      <td>HOMICIDIO</td>\n",
       "      <td>2004-01-01</td>\n",
       "      <td>2004</td>\n",
       "      <td>NaN</td>\n",
       "      <td>1</td>\n",
       "    </tr>\n",
       "    <tr>\n",
       "      <th>2</th>\n",
       "      <td>CARUARU</td>\n",
       "      <td>AGRESTE</td>\n",
       "      <td>MASCULINO</td>\n",
       "      <td>HOMICIDIO</td>\n",
       "      <td>2004-01-01</td>\n",
       "      <td>2004</td>\n",
       "      <td>NaN</td>\n",
       "      <td>2</td>\n",
       "    </tr>\n",
       "    <tr>\n",
       "      <th>3</th>\n",
       "      <td>CORRENTES</td>\n",
       "      <td>AGRESTE</td>\n",
       "      <td>MASCULINO</td>\n",
       "      <td>HOMICIDIO</td>\n",
       "      <td>2004-01-01</td>\n",
       "      <td>2004</td>\n",
       "      <td>NaN</td>\n",
       "      <td>1</td>\n",
       "    </tr>\n",
       "    <tr>\n",
       "      <th>4</th>\n",
       "      <td>ESCADA</td>\n",
       "      <td>ZONA DA MATA</td>\n",
       "      <td>MASCULINO</td>\n",
       "      <td>HOMICIDIO</td>\n",
       "      <td>2004-01-01</td>\n",
       "      <td>2004</td>\n",
       "      <td>NaN</td>\n",
       "      <td>1</td>\n",
       "    </tr>\n",
       "  </tbody>\n",
       "</table>\n",
       "</div>"
      ],
      "text/plain": [
       "      MUNICIPIO     REGIAO_GEOGRAFICA       SEXO NATUREZA JURIDICA       DATA  \\\n",
       "0  BUENOS AIRES          ZONA DA MATA  MASCULINO         HOMICIDIO 2004-01-01   \n",
       "1    CAMARAGIBE  REGIÃO METROPOLITANA   FEMININO         HOMICIDIO 2004-01-01   \n",
       "2       CARUARU               AGRESTE  MASCULINO         HOMICIDIO 2004-01-01   \n",
       "3     CORRENTES               AGRESTE  MASCULINO         HOMICIDIO 2004-01-01   \n",
       "4        ESCADA          ZONA DA MATA  MASCULINO         HOMICIDIO 2004-01-01   \n",
       "\n",
       "    ANO  IDADE  TOTAL DE VITIMAS  \n",
       "0  2004    NaN                 1  \n",
       "1  2004    NaN                 1  \n",
       "2  2004    NaN                 2  \n",
       "3  2004    NaN                 1  \n",
       "4  2004    NaN                 1  "
      ]
     },
     "execution_count": 20,
     "metadata": {},
     "output_type": "execute_result"
    }
   ],
   "source": [
    "cvli.head()"
   ]
  }
 ],
 "metadata": {
  "interpreter": {
   "hash": "78ac38304be536827a38b96fc065f2ca89001f8bb1a52972a033ad337667e6ea"
  },
  "kernelspec": {
   "display_name": "Python 3.8.10 ('dashboard')",
   "language": "python",
   "name": "python3"
  },
  "language_info": {
   "codemirror_mode": {
    "name": "ipython",
    "version": 3
   },
   "file_extension": ".py",
   "mimetype": "text/x-python",
   "name": "python",
   "nbconvert_exporter": "python",
   "pygments_lexer": "ipython3",
   "version": "3.8.10"
  },
  "orig_nbformat": 4
 },
 "nbformat": 4,
 "nbformat_minor": 2
}
